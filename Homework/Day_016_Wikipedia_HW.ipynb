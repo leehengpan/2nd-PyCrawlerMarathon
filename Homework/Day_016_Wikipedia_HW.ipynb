{
 "cells": [
  {
   "cell_type": "markdown",
   "metadata": {},
   "source": [
    "# Wikipedia爬蟲練習\n",
    "## 範例：練習是從Wikipedia中爬取文章。先定義一個搜尋的關鍵字，擷取該關鍵字詞的文章。"
   ]
  },
  {
   "cell_type": "code",
   "execution_count": 34,
   "metadata": {},
   "outputs": [],
   "source": [
    "import requests\n",
    "import re\n",
    "from bs4 import BeautifulSoup\n",
    "import os"
   ]
  },
  {
   "cell_type": "markdown",
   "metadata": {},
   "source": [
    "### 先定義一個我們想搜尋的字詞，並將它轉換成UTF-8編碼後的URL"
   ]
  },
  {
   "cell_type": "code",
   "execution_count": 35,
   "metadata": {},
   "outputs": [
    {
     "name": "stdout",
     "output_type": "stream",
     "text": [
      "魔術: %E9%AD%94%E8%A1%93\n",
      "/wiki/%E9%AD%94%E8%A1%93\n"
     ]
    }
   ],
   "source": [
    "input_keyword = \"魔術\"  # 這裡可以自己定義有興趣的關鍵字\n",
    "\n",
    "utf8_url = repr(input_keyword.encode('UTF-8')).upper()  # 編碼成UTF-8並轉成大寫字元\n",
    "utf8_url = utf8_url.replace(\"\\\\X\", \"%\")                 # 用 '%' 取代 '\\X' \n",
    "print(\"%s: %s\" % (input_keyword, utf8_url[2:-1:1]))     # 擷取中間的編碼結果\n",
    "\n",
    "# 組成Wiki關鍵字搜尋的網址格式\n",
    "root_keyword_link = '/wiki/' + utf8_url[2:-1:1]\n",
    "print(root_keyword_link)"
   ]
  },
  {
   "cell_type": "markdown",
   "metadata": {},
   "source": [
    "### 範例1：送出關鍵字請求後，爬取該關鍵字的文章內容"
   ]
  },
  {
   "cell_type": "code",
   "execution_count": 36,
   "metadata": {},
   "outputs": [
    {
     "name": "stdout",
     "output_type": "stream",
     "text": [
      "魔術（英語：Magic Trick），是一門獨特的藝術表演形式，通過特殊的手法及道具等，使觀眾覺得不可思議[1]。廣義的定義為泛指各種以專業技巧或知識展示出讓人覺得歡笑、不可思議的藝術的活動。魔術的技巧並不包含特異功能的成份。魔術亦可定義為「在滿足物質不滅定律及能量守恆定律的條件之下，呈現出違反經驗法則的表演」。\n",
      "\n",
      "魔術師則是指從事魔術活動，並且不將魔術濫用者。魔術師古代又稱為「眩者」、「幻人」等。\n",
      "\n",
      "魔術不是只有障眼法，而是一項務求違反客觀現象的表演藝術，必須有純熟的手法和精製的道具，瞭解觀眾的心理還有良好的表演心態。一個成功的魔術能令觀眾看得如癡如醉，要靠很好的表演和新的創意。魔術並非一定需要特殊道具，助手，台前幕後的協助，有時候只有手邊的小東西也可以變出一個好魔術。\n",
      "\n",
      "正確的魔術起源時間無從考據，推測從有人類活動開始就有了魔術。魔術的起源是宗教和信仰，所謂「魔術」一詞源來自拉丁語magi，常被拜火教使用。在古代（特別是印度），人們相信自然界中所有的事情，都是因為有精靈或神靈操縱，因此巫師或祭師利用人類迷信的心理，利用人們所不知道的原理製造神跡，讓人們相信這些是由精靈或神靈所行出來的，藉由魔術強化宗教的儀式，信眾們更加確認他們的信仰。\n",
      "\n",
      "歷史上最早的魔術紀錄是在埃及，大約是在西元前2600年，也就是距今四千多年前。1823年發現的《威斯卡手稿》，文獻上記載了一位名叫德狄（Dedi of Dedsnefu）的魔術師，受召為法老王進行表演。他能將鵝的頭砍下，而斷了頭的鵝依然能走動，最後再把頭接回去恢復為原本的鵝。該紀錄描述了這名魔術師對鵜鶘和公牛也進行了相同的戲法。古希臘的神殿也利用了魔術的原理。例如祭師打開神殿大門時，風箱會吹向地面，祭臺上便出現了火焰。還有應用風管製造的會說話的神像。\n",
      "\n",
      "而最早的戲法紀錄則是「杯與球戲法」（Cups And Balls），這是目前人們所知最古老的戲法。在埃及的壁畫中（Tomb of Baqt III at Beni Hassan B.C 2500）也有紀錄。而真正其歷史表演的紀錄則可追溯到1世紀時。此戲法在中世紀時大受歡迎，被魔術師們廣泛表演於市集中。當時的魔術師被稱為雜耍者（Juggers）。這些四處旅行的表演者與樂師、詩人、特技表演者到村莊的空地上以簡單的戲法娛樂村民。\n",
      "\n",
      "到了中世紀末期，歐洲魔術師開始面臨來自教堂的強烈反對。因為那時人們十分相信巫術與超自然現象，而教會相信超自然事件不是出於聖靈便是出於邪靈的信念，使得任何未被教堂所認可的魔法，就會被認為是黑魔法。只要一個人指證，魔術師就被會面臨審判。許多魔術師都遭到指控，被指証他們與惡魔結盟。\n",
      "\n",
      "儘管受到迫害，魔術師依然是個既危險，又受到歡迎的職業。一些魔術師受到大地主與貴族的青睞與保護。這時期四處遊走表演的魔術師，只有有限的戲法可以進行表演。當時撲克牌還不普遍，需要大型道具的戲法又昂貴。所以魔術師要依賴靈巧的手法和說故事的技巧。用鳥類和動物表演的戲法相當受到歡迎。\n",
      "\n",
      "近三百年前，宗教對於魔術的迫害逐漸加深，在英王亨利八世統治期間，表演魔術的懲罰是死刑。到了16世紀末，對女巫的迫害到了大屠殺的地步。由於這些瘋狂的行徑，很多魔術師都受生命威脅，若不透露魔術的秘密，恐怕會被處死。因此促使了第一本英文魔術書籍的誕生，1584年的「巫術探索」（The Discovery Of Witchcraft）。該書作者雷吉諾·史考特（Reginald Scot）的目的，是為了要拯救魔術師的性命，為了將魔術師的技巧與女巫的邪惡力量作為區分，在書中揭露了不少魔術秘密，以證明這些看似奇蹟的神蹟，事實上是由一些自然的技巧來達成，而非藉助於邪惡的力量。而他的作品，的確令很多的魔術師脫離被燒死的命運。書中介紹許多祕密，部分至今仍有再使用。\n",
      "\n",
      "在歷史上，只要是人群聚集的地方，魔術師的表演就會高堂滿座。在18世紀，人們最常聚集的地方是每年的市集。各種馬戲表演，特技表演都會來這。但是在這競爭中，唯一的明星就是魔術師。18世紀最偉大的魔術師，是埃賽克·霍士。他在1720年代聲名大噪，在各城鎮的主要市集上，都能見到其蹤影。埃賽克的經典魔術是蛋袋（Egg Bag），從空無一物的袋中，不斷拿出雞蛋與小物品。要觀看霍士表演需付一先令。他是這項技法的先師，因此成了高收入者，甚至還有死忠的支持者。在他於1731年逝世時，報紙報導了他留下了一萬英鎊的遺產，相當於今日的100萬美元，由此可知他多受歡迎。\n",
      "\n",
      "到了19世紀，隨著劇院的興起，魔術師找到了新的舞台。最早將魔術帶進戲院，並在劇院打出名號的魔術師，被稱為「北方的大巫師」（The Great Wizard of North）的蘇格蘭魔術師，約翰亨利安德森(John Henry Anderson 1814-1874)。他的創新表演風格，影響了後世眾多的魔術師。魔術師將巧手結合燈光和舞台效果，展開了魔術的新紀元。有史以來魔術師登上了歷史的巔峰，許多魔術為了因應戲院而誕生。十九世紀末是魔術表演的黃金時期，各地的魔術表演都是高堂滿座。魔術師當時穿著正式的燕尾服，就像當時上戲院的觀眾們一樣，這也是魔術師穿燕尾服表演的起源。有些魔術師甚至成了家喻戶曉的名人。\n",
      "\n",
      "二十世紀初期最著名的魔術大師是脫逃大師哈利·胡迪尼（Harry Houdini 1874-1926），傳奇魔術大師胡迪尼，在美國是家喻戶曉的人物，胡迪尼擅長於脫逃術表演，手銬、緊身衣、牛奶罐、中國水牢，和最著名的水底脫逃。胡迪尼同時也是揭發以魔術為方法欺騙大眾的所謂特異功能人士的先驅者。直到今日人們依然記得他的事績。\n",
      "\n",
      "但是，1930年代電影工業的起飛，造成魔術表演市場的快速衰退。因為在電影中，任何魔法都可能發生。唯有真正的魔術大師，才能讓觀眾著迷。\n",
      "\n",
      "人們對魔術的需求又再度上升。隨著賭城拉斯維加斯等娛樂城及電視的發展，造就了魔術巨星。魔術大師一般收費高昂，而且在世界各地都有支持者。現時，魔術依然能滿足了人們對於驚奇和娛樂的需求。\n",
      "\n",
      "魔術在中國有悠久的歷史，在漢代已有「魚龍蔓延」、「東海黃公」等成型魔術[2]。\n",
      "\n",
      "在中國，南宋時就已經有類似魔術的表演，稱為「戲法」，現在的正式稱謂為古彩戲法。古彩就是古代堂彩的簡稱。這種節目是過去達官顯貴遇有婚、喪、嫁、聚之事時，表演者在廳堂表演的節目。[3]\n",
      "\n",
      "中國古彩戲法自南宋以來杭州的瓦舍、街頭以及喜慶堂會都有演出。變戲法都遵循傳統，一直穿大褂表演，表演前必須上、下、反、正都要亮相，把蓋布里外讓觀眾看過。道具如魚缸、瓷碗、花瓶、火盆等。[4]\n",
      "\n",
      "代表人物有清末民初時古彩戲法的表演者朱連魁（藝名林福或金陵福：Ching Ling Foo）。他最著名的表演就是古彩戲法的「大碗飛水」。\n",
      "\n",
      "光緒年間，唐再豐編成《鵝幻彙編》一書，又稱《戲法圖說》或《中外戲法圖說》收錄當時許多中國魔術。\n",
      "\n",
      "傳統上，魔術的基本效果有下列幾種：\n",
      "\n",
      "靈敏手法（英語：Sleight of hand）是指魔術表演者或玩紙牌老手利用一系列的方式偷偷的處理物體，來達到看似不可思議的效果，常用的物體包括卡片、紙牌及硬幣等。[5]\n",
      "\n",
      "魔術師的誓詞（Magician's Oath）的版本有很多，長短不一，而內容主要都包含「保守魔術秘密」、「至力發展魔術」及「表演前必先熟練」三個基本原則。以下是其中一個較為常用的版本：\n",
      "\n",
      "「作為魔術師，我願以信譽為誓，一切行為以保持魔術長期發展為依歸故，\n",
      " 我定必堅守魔術奧秘，尤其對不諳魔術及尚未起誓的人；\n",
      "於人前表演前，我必熟習技法到至極，對自己及觀眾負責任，\n",
      "並把自己的力量用於行善，貢獻人類。\n",
      "此誓。」\n",
      "\n",
      "全世界魔術師所公認並且共同遵守的就是所謂的「薩斯頓三原則」（Thurston's 3 rules in magic）。無論是職業或是業餘魔術師，都必須要遵守。\n",
      "\n",
      "霍華·薩斯頓是20世紀初一位著名的美國魔術師。他本人並沒有說過這三項原則，是後人為了紀念他，才將這全世界魔術師所遵守的原則冠上他的名字。\n",
      "\n",
      "由於魔術手法能製造錯覺、假像和心理暗示，有些懂得魔術手法的人，會以此從事詐欺等不法活動圖利：\n",
      "\n"
     ]
    }
   ],
   "source": [
    "# 模擬封包的標頭\n",
    "headers = {\n",
    "    'authority': 'zh.wikipedia.org',\n",
    "    'method': 'GET',\n",
    "    'path': '/wiki/' + root_keyword_link,\n",
    "    'scheme': 'https',\n",
    "    'accept': 'text/html,application/xhtml+xml,application/xml;q=0.9,image/webp,image/apng,*/*;q=0.8,application/signed-exchange;v=b3',\n",
    "    'accept-encoding': 'gzip, deflate, br',\n",
    "    'accept-language': 'zh-TW,zh;q=0.9,en-US;q=0.8,en;q=0.7,zh-CN;q=0.6',\n",
    "    'cookie': 'GeoIP=TW:TPE:Taipei:25.05:121.53:v4; TBLkisOn=0; mwPhp7Seed=8b8; WMF-Last-Access-Global=04-Jun-2019; WMF-Last-Access=04-Jun-2019',\n",
    "    'dnt': '1',\n",
    "    #'if-modified-since': 'Tue, 04 Jun 2019 12:03:22 GMT',\n",
    "    'referer': 'https://zh.wikipedia.org/wiki/Wikipedia:%E9%A6%96%E9%A1%B5',\n",
    "    'upgrade-insecure-requests': '1',\n",
    "    'user-agent': 'Mozilla/5.0 (Windows NT 10.0; Win64; x64) AppleWebKit/537.36 (KHTML, like Gecko) Chrome/74.0.3729.169 Safari/537.36'\n",
    "}    \n",
    "\n",
    "url = 'https://zh.wikipedia.org' + root_keyword_link  # 組合關鍵字查詢URL\n",
    "resp = requests.get(url, headers=headers)\n",
    "resp.encoding = 'utf-8'\n",
    "\n",
    "html = BeautifulSoup(resp.text, \"lxml\")\n",
    "content = html.find(name='div', attrs={'id':'mw-content-text'}).find_all(name='p')\n",
    "\n",
    "os.makedirs( './wikiArticle', exist_ok=True )\n",
    "#\n",
    "# 解析回傳資料，並萃取文章內容\n",
    "#\n",
    "for paragraph in content:\n",
    "    print(paragraph.get_text())"
   ]
  },
  {
   "cell_type": "markdown",
   "metadata": {},
   "source": [
    "### 範例2：從爬取的文章內容中，擷取出有外部連結的關鍵字。這些關鍵字在文章中是以藍色字體顯示，會連到外部的網頁，並解釋其內容。"
   ]
  },
  {
   "cell_type": "code",
   "execution_count": 37,
   "metadata": {},
   "outputs": [
    {
     "name": "stdout",
     "output_type": "stream",
     "text": [
      "外部連結: [特異功能] /wiki/%E7%89%B9%E7%95%B0%E5%8A%9F%E8%83%BD\n",
      "外部連結: [物質不滅定律] /wiki/%E7%89%A9%E8%B3%AA%E4%B8%8D%E6%BB%85%E5%AE%9A%E5%BE%8B\n",
      "外部連結: [能量守恆定律] /wiki/%E8%83%BD%E9%87%8F%E5%AE%88%E6%81%86%E5%AE%9A%E5%BE%8B\n",
      "外部連結: [宗教] /wiki/%E5%AE%97%E6%95%99\n",
      "外部連結: [信仰] /wiki/%E4%BF%A1%E4%BB%B0\n",
      "外部連結: [拜火教] /wiki/%E6%8B%9C%E7%81%AB%E6%95%99\n",
      "外部連結: [印度] /wiki/%E5%8D%B0%E5%BA%A6\n",
      "外部連結: [埃及] /wiki/%E5%9F%83%E5%8F%8A\n",
      "外部連結: [法老王] /wiki/%E6%B3%95%E8%80%81%E7%8E%8B\n",
      "外部連結: [鵝] /wiki/%E9%B5%9D\n",
      "外部連結: [鵜鶘] /wiki/%E9%B5%9C%E9%B6%98\n",
      "外部連結: [公牛] /wiki/%E5%85%AC%E7%89%9B\n",
      "外部連結: [古希臘] /wiki/%E5%8F%A4%E5%B8%8C%E8%87%98\n",
      "外部連結: [祭師] /wiki/%E7%A5%AD%E5%8F%B8\n",
      "外部連結: [風箱] /wiki/%E9%A3%8E%E7%AE%B1\n",
      "外部連結: [火焰] /wiki/%E7%81%AB%E7%84%B0\n",
      "外部連結: [壁畫] /wiki/%E5%A3%81%E7%95%AB\n",
      "外部連結: [中世紀] /wiki/%E4%B8%AD%E4%B8%96%E7%B4%80\n",
      "外部連結: [黑魔法] /wiki/%E9%BB%91%E9%AD%94%E6%B3%95\n",
      "外部連結: [貴族] /wiki/%E8%B2%B4%E6%97%8F\n",
      "外部連結: [亨利八世] /wiki/%E4%BA%A8%E5%88%A9%E5%85%AB%E4%B8%96\n",
      "外部連結: [蘇格蘭] /wiki/%E8%98%87%E6%A0%BC%E8%98%AD\n",
      "外部連結: [燕尾服] /wiki/%E7%87%95%E5%B0%BE%E6%9C%8D\n",
      "外部連結: [哈利·胡迪尼] /wiki/%E5%93%88%E5%88%A9%C2%B7%E8%83%A1%E8%BF%AA%E5%B0%BC\n",
      "外部連結: [拉斯維加斯] /wiki/%E6%8B%89%E6%96%AF%E7%B6%AD%E5%8A%A0%E6%96%AF\n",
      "外部連結: [中國] /wiki/%E4%B8%AD%E5%9B%BD\n",
      "外部連結: [南宋] /wiki/%E5%8D%97%E5%AE%8B\n",
      "外部連結: [杭州] /wiki/%E6%9D%AD%E5%B7%9E\n",
      "外部連結: [大褂] /wiki/%E5%A4%A7%E8%A4%82\n",
      "外部連結: [清] /wiki/%E6%B8%85%E6%9C%9D\n",
      "外部連結: [民] /wiki/%E6%B0%91%E5%9B%BD\n",
      "外部連結: [朱連魁] /wiki/%E6%9C%B1%E9%80%A3%E9%AD%81\n",
      "外部連結: [唐再豐] /wiki/%E5%94%90%E5%86%8D%E8%B1%90\n",
      "外部連結: [玩紙牌老手] /wiki/%E7%8E%A9%E7%BA%B8%E7%89%8C%E8%80%81%E6%89%8B\n",
      "外部連結: [霍華·薩斯頓] /wiki/%E9%9C%8D%E8%8F%AF%C2%B7%E8%96%A9%E6%96%AF%E9%A0%93\n",
      "外部連結: [錯覺] /wiki/%E9%8C%AF%E8%A6%BA\n"
     ]
    }
   ],
   "source": [
    "for ext_link in content:\n",
    "    a_tag = ext_link.find_all('a', href=re.compile(\"^(/wiki/)((?!;)\\S)*$\"))\n",
    "    if len(a_tag) > 0:\n",
    "        for link_string in a_tag:\n",
    "            a_link = link_string[\"href\"]       # 外部連結的網址\n",
    "            a_keyword = link_string.get_text()  # 外部連結的中文名稱\n",
    "            print(\"外部連結: [%s] %s\" % (a_keyword, a_link))\n",
    "            "
   ]
  },
  {
   "cell_type": "markdown",
   "metadata": {},
   "source": [
    "## 作業：接下來定義一個爬蟲函數，這個函數的主要工作為：\n",
    "### (1) 爬取當前關鍵字的解釋，並存入檔案(因為文章內容太多會佔滿整個頁面，所以存程檔案，方便後續檢視)\n",
    "### (2) 萃取出當前關鍵字所引用的外部連結，當作新的查詢關鍵字\n",
    "### (3) 把第(2)擷取到的關鍵字當作新的關鍵字，回到第(1)步，爬取新的關鍵字解釋。"
   ]
  },
  {
   "cell_type": "code",
   "execution_count": 48,
   "metadata": {},
   "outputs": [],
   "source": [
    "def WikiArticle(key_word_link, key_word, recursive):\n",
    "    \n",
    "    if (recursive <= max_recursive_depth):\n",
    "        print(\"遞迴層[%d] - %s (%s)\" % (recursive, key_word_link, key_word))\n",
    "        \n",
    "        # 模擬封包的標頭\n",
    "        headers = {\n",
    "            'authority': 'zh.wikipedia.org',\n",
    "            'method': 'GET',\n",
    "            'path': '/wiki/' + key_word_link,\n",
    "            'scheme': 'https',\n",
    "            'accept': 'text/html,application/xhtml+xml,application/xml;q=0.9,image/webp,image/apng,*/*;q=0.8,application/signed-exchange;v=b3',\n",
    "            'accept-encoding': 'gzip, deflate, br',\n",
    "            'accept-language': 'zh-TW,zh;q=0.9,en-US;q=0.8,en;q=0.7,zh-CN;q=0.6',\n",
    "            'cookie': 'GeoIP=TW:TPE:Taipei:25.05:121.53:v4; TBLkisOn=0; mwPhp7Seed=8b8; WMF-Last-Access-Global=04-Jun-2019; WMF-Last-Access=04-Jun-2019',\n",
    "            'dnt': '1',\n",
    "            #'if-modified-since': 'Tue, 04 Jun 2019 12:03:22 GMT',\n",
    "            'referer': 'https://zh.wikipedia.org/wiki/Wikipedia:%E9%A6%96%E9%A1%B5',\n",
    "            'upgrade-insecure-requests': '1',\n",
    "            'user-agent': 'Mozilla/5.0 (Windows NT 10.0; Win64; x64) AppleWebKit/537.36 (KHTML, like Gecko) Chrome/74.0.3729.169 Safari/537.36'\n",
    "        }    \n",
    "\n",
    "        url = 'https://zh.wikipedia.org' + key_word_link  # 組合關鍵字查詢URL\n",
    "        resp = requests.get(url, headers=headers)\n",
    "        resp.encoding = 'utf-8'\n",
    "\n",
    "        html = BeautifulSoup(resp.text, \"lxml\")\n",
    "        content = html.find(name='div', attrs={'id':'mw-content-text'}).find_all(name='p')\n",
    "        \n",
    "        #\n",
    "        # Part 1: 請參考範例1，爬取當前關鍵字的文章內容。\n",
    "        #         因為內容太多，我們把它寫入檔案，並以關鍵字作為檔案名稱，以便稍後查閱內容。\n",
    "        #         請先建立一個名為\"WikiArticle\"的資料夾，爬取到的文章內容會放在這個資料夾底下。\n",
    "        #\n",
    "        os.makedirs( './wikiArticle', exist_ok=True )\n",
    "        for paragraph in content:\n",
    "            file_name = key_word+\".txt\"\n",
    "            text_file = open('./wikiArticle/'+file_name, \"a\")\n",
    "            n = text_file.write(paragraph.get_text())\n",
    "            text_file.close()\n",
    "            \n",
    "        \n",
    "        #\n",
    "        # Part 2: 請參考範例2，萃取出本篇文章中所延伸引用的外部連結，並儲存在external_link_dict\n",
    "        #\n",
    "        external_link_dict = dict({})\n",
    "        \n",
    "        for ext_link in content:\n",
    "            a_tag = ext_link.find_all('a', href=re.compile(\"^(/wiki/)((?!;)\\S)*$\"))\n",
    "            if len(a_tag) > 0:\n",
    "                for link_string in a_tag:\n",
    "                    a_link = link_string[\"href\"]       # 外部連結的網址\n",
    "                    a_keyword = link_string.get_text()  # 外部連結的中文名稱\n",
    "                    external_link_dict.update([ (a_keyword, a_link) ] )\n",
    "\n",
    "                    \n",
    "        #\n",
    "        # Part 3: 將Part 2所收集的外部連結，當作新的關鍵字，繼續迭代深入爬蟲\n",
    "        #\n",
    "        if (len(external_link_dict) > 0):\n",
    "            \n",
    "            recursive = recursive + 1  # 遞迴深度加1\n",
    "            \n",
    "            for k, v in external_link_dict.items():\n",
    "                WikiArticle(v, k, recursive)  # 再次呼叫同樣的函數，執行同樣的流程"
   ]
  },
  {
   "cell_type": "markdown",
   "metadata": {},
   "source": [
    "### 執行前個步驟定義好的爬蟲主程式"
   ]
  },
  {
   "cell_type": "code",
   "execution_count": 49,
   "metadata": {},
   "outputs": [
    {
     "name": "stdout",
     "output_type": "stream",
     "text": [
      "遞迴層[0] - /wiki/%E9%AD%94%E8%A1%93 (魔術)\n",
      "遞迴層[1] - /wiki/%E7%89%B9%E7%95%B0%E5%8A%9F%E8%83%BD (特異功能)\n",
      "遞迴層[1] - /wiki/%E7%89%A9%E8%B3%AA%E4%B8%8D%E6%BB%85%E5%AE%9A%E5%BE%8B (物質不滅定律)\n",
      "遞迴層[1] - /wiki/%E8%83%BD%E9%87%8F%E5%AE%88%E6%81%86%E5%AE%9A%E5%BE%8B (能量守恆定律)\n",
      "遞迴層[1] - /wiki/%E5%AE%97%E6%95%99 (宗教)\n",
      "遞迴層[1] - /wiki/%E4%BF%A1%E4%BB%B0 (信仰)\n",
      "遞迴層[1] - /wiki/%E6%8B%9C%E7%81%AB%E6%95%99 (拜火教)\n",
      "遞迴層[1] - /wiki/%E5%8D%B0%E5%BA%A6 (印度)\n",
      "遞迴層[1] - /wiki/%E5%9F%83%E5%8F%8A (埃及)\n",
      "遞迴層[1] - /wiki/%E6%B3%95%E8%80%81%E7%8E%8B (法老王)\n",
      "遞迴層[1] - /wiki/%E9%B5%9D (鵝)\n",
      "遞迴層[1] - /wiki/%E9%B5%9C%E9%B6%98 (鵜鶘)\n",
      "遞迴層[1] - /wiki/%E5%85%AC%E7%89%9B (公牛)\n",
      "遞迴層[1] - /wiki/%E5%8F%A4%E5%B8%8C%E8%87%98 (古希臘)\n",
      "遞迴層[1] - /wiki/%E7%A5%AD%E5%8F%B8 (祭師)\n",
      "遞迴層[1] - /wiki/%E9%A3%8E%E7%AE%B1 (風箱)\n",
      "遞迴層[1] - /wiki/%E7%81%AB%E7%84%B0 (火焰)\n",
      "遞迴層[1] - /wiki/%E5%A3%81%E7%95%AB (壁畫)\n",
      "遞迴層[1] - /wiki/%E4%B8%AD%E4%B8%96%E7%B4%80 (中世紀)\n",
      "遞迴層[1] - /wiki/%E9%BB%91%E9%AD%94%E6%B3%95 (黑魔法)\n",
      "遞迴層[1] - /wiki/%E8%B2%B4%E6%97%8F (貴族)\n",
      "遞迴層[1] - /wiki/%E4%BA%A8%E5%88%A9%E5%85%AB%E4%B8%96 (亨利八世)\n",
      "遞迴層[1] - /wiki/%E8%98%87%E6%A0%BC%E8%98%AD (蘇格蘭)\n",
      "遞迴層[1] - /wiki/%E7%87%95%E5%B0%BE%E6%9C%8D (燕尾服)\n",
      "遞迴層[1] - /wiki/%E5%93%88%E5%88%A9%C2%B7%E8%83%A1%E8%BF%AA%E5%B0%BC (哈利·胡迪尼)\n",
      "遞迴層[1] - /wiki/%E6%8B%89%E6%96%AF%E7%B6%AD%E5%8A%A0%E6%96%AF (拉斯維加斯)\n",
      "遞迴層[1] - /wiki/%E4%B8%AD%E5%9B%BD (中國)\n",
      "遞迴層[1] - /wiki/%E5%8D%97%E5%AE%8B (南宋)\n",
      "遞迴層[1] - /wiki/%E6%9D%AD%E5%B7%9E (杭州)\n",
      "遞迴層[1] - /wiki/%E5%A4%A7%E8%A4%82 (大褂)\n",
      "遞迴層[1] - /wiki/%E6%B8%85%E6%9C%9D (清)\n",
      "遞迴層[1] - /wiki/%E6%B0%91%E5%9B%BD (民)\n",
      "遞迴層[1] - /wiki/%E6%9C%B1%E9%80%A3%E9%AD%81 (朱連魁)\n",
      "遞迴層[1] - /wiki/%E5%94%90%E5%86%8D%E8%B1%90 (唐再豐)\n",
      "遞迴層[1] - /wiki/%E7%8E%A9%E7%BA%B8%E7%89%8C%E8%80%81%E6%89%8B (玩紙牌老手)\n",
      "遞迴層[1] - /wiki/%E9%9C%8D%E8%8F%AF%C2%B7%E8%96%A9%E6%96%AF%E9%A0%93 (霍華·薩斯頓)\n",
      "遞迴層[1] - /wiki/%E9%8C%AF%E8%A6%BA (錯覺)\n"
     ]
    }
   ],
   "source": [
    "# 定義爬取的遞迴深度。深度不要訂太深，否則會爬很久。\n",
    "max_recursive_depth = 1\n",
    "\n",
    "WikiArticle(root_keyword_link, input_keyword, 0)"
   ]
  }
 ],
 "metadata": {
  "kernelspec": {
   "display_name": "Python 3",
   "language": "python",
   "name": "python3"
  },
  "language_info": {
   "codemirror_mode": {
    "name": "ipython",
    "version": 3
   },
   "file_extension": ".py",
   "mimetype": "text/x-python",
   "name": "python",
   "nbconvert_exporter": "python",
   "pygments_lexer": "ipython3",
   "version": "3.7.4"
  }
 },
 "nbformat": 4,
 "nbformat_minor": 2
}
