{
 "cells": [
  {
   "cell_type": "markdown",
   "metadata": {},
   "source": [
    "# API 資料串接 - 以 Dcard API 實作範例\n",
    "\n",
    "* 了解 Dcard API 使用方式與回傳內容\n",
    "* 撰寫程式存取 API 且解析 JSON 格式資料\n"
   ]
  },
  {
   "cell_type": "markdown",
   "metadata": {},
   "source": [
    "## 作業目標\n",
    "\n",
    "* 請利用 API: https://www.dcard.tw/_api/forums/pet/posts?popular=true 回答下列問題：\n",
    "\n",
    "1. 這個 API 一次會回傳幾筆資料？每一筆資料包含哪些欄位？\n",
    "2. 取出每一筆資料的「標題」、「貼文時間」、「留言人數」、「按讚人數」\n",
    "3. 計算熱門/非熱門文章的「平均留言人數」與「平均按讚人數」"
   ]
  },
  {
   "cell_type": "code",
   "execution_count": 15,
   "metadata": {},
   "outputs": [
    {
     "name": "stdout",
     "output_type": "stream",
     "text": [
      "一次會回傳30筆資料\n",
      "id\n",
      "title\n",
      "excerpt\n",
      "anonymousSchool\n",
      "anonymousDepartment\n",
      "pinned\n",
      "forumId\n",
      "replyId\n",
      "createdAt\n",
      "updatedAt\n",
      "commentCount\n",
      "likeCount\n",
      "withNickname\n",
      "tags\n",
      "topics\n",
      "meta\n",
      "forumName\n",
      "forumAlias\n",
      "gender\n",
      "school\n",
      "replyTitle\n",
      "mediaMeta\n",
      "reactions\n",
      "hidden\n",
      "customStyle\n",
      "isSuspiciousAccount\n",
      "layout\n",
      "withImages\n",
      "withVideos\n",
      "media\n",
      "reportReasonText\n",
      "postAvatar\n"
     ]
    }
   ],
   "source": [
    "# 1. 這個 API 一次會回傳幾筆資料？每一筆資料包含哪些欄位？\n",
    "\n",
    "import requests\n",
    "r = requests.get('https://www.dcard.tw/_api/forums/pet/posts?popular=true')\n",
    "response = r.text\n",
    "\n",
    "import json\n",
    "data = json.loads(response)\n",
    "\n",
    "Cnt = 0\n",
    "for d in data:\n",
    "    Cnt += 1\n",
    "\n",
    "print(\"一次會回傳\"+ str(Cnt) + \"筆資料\")\n",
    "\n",
    "for d in data:\n",
    "    for tag in d:\n",
    "        print(tag)\n",
    "    break"
   ]
  },
  {
   "cell_type": "code",
   "execution_count": 18,
   "metadata": {},
   "outputs": [
    {
     "name": "stdout",
     "output_type": "stream",
     "text": [
      "再見了！貓叔 2020-03-09T02:35:03.855Z 344 4\n",
      "結紮後哭哭 2020-03-09T08:57:11.370Z 174 6\n",
      "在美國的美國短毛貓-睡姿篇 2020-03-08T17:25:16.914Z 94 4\n",
      "拜託！不要這個臉！ 2020-03-09T16:08:00.612Z 67 5\n",
      "牠陪伴你一時，你陪伴牠ㄧ世 2020-03-09T10:29:35.965Z 40 4\n",
      "最會騙人的貓 2020-03-09T04:46:36.530Z 32 14\n",
      "魚x魚疑似把我訂的小丑魚調包 2020-03-09T18:58:42.144Z 28 13\n",
      "我家又撿到鳥了 2020-03-09T03:14:27.534Z 26 2\n",
      "家門口的浪貓 2020-03-09T10:41:12.198Z 24 7\n",
      "小貓咕嚕咕嚕叫？ 2020-03-09T14:09:12.761Z 21 0\n",
      "要多厭世 2020-03-09T07:11:55.687Z 20 1\n",
      "犬種介紹特輯 東方神獸 西藏獒犬~ 2020-03-09T13:00:10.099Z 19 5\n",
      "《狸貓豆皮》搭校車的工讀生上學嚕🐕 2020-03-09T06:43:50.658Z 18 0\n",
      "家有五隻貓 2020-03-08T20:08:16.456Z 18 0\n",
      "我養了一頭鹿（？ 2020-03-09T08:09:40.976Z 16 0\n",
      "我能做的不多～但我盡力 2020-03-08T16:21:16.712Z 13 4\n",
      "撿到狗狗，但沒辦法繼續認養牠 2020-03-09T14:24:37.960Z 12 3\n",
      "撒嬌貓 2020-03-08T17:03:22.202Z 12 0\n",
      "家貓ㄧ聽到牠在DCARD⋯⋯😳 2020-03-09T13:14:54.829Z 11 1\n",
      "被懷疑是因為我養貓所以害其他人過敏 2020-03-09T05:05:02.814Z 11 10\n",
      "柴犬夫妻被自助洗澡初體驗 2020-03-09T17:10:22.314Z 10 2\n",
      "睡成這樣合理嗎？ 2020-03-09T14:11:57.741Z 10 2\n",
      "尋😭 2020-03-09T12:33:39.568Z 10 0\n",
      "我以為我養的是豬🐷 2020-03-09T07:15:38.224Z 8 0\n",
      "讓人心累的一場雨 2020-03-09T19:49:25.810Z 7 1\n",
      "專業陪睡的貓 2020-03-09T04:15:41.333Z 7 0\n",
      "三重 協尋貓咪😭😭獨眼虎斑 2020-03-10T01:58:53.389Z 5 1\n",
      "老鼠越獄 2020-03-09T17:44:05.571Z 5 9\n",
      "請問是烏龜貓？ 2020-03-09T12:59:31.184Z 5 4\n",
      "打哈欠 2020-03-09T11:58:43.666Z 5 2\n"
     ]
    }
   ],
   "source": [
    "# 2. 取出每一筆資料的「標題」、「貼文時間」、「留言人數」、「按讚人數」\n",
    "\n",
    "for d in data:\n",
    "    print (d['title'], d['createdAt'],d['likeCount'], d['commentCount'])"
   ]
  },
  {
   "cell_type": "code",
   "execution_count": 31,
   "metadata": {},
   "outputs": [
    {
     "name": "stdout",
     "output_type": "stream",
     "text": [
      "熱門文章\n",
      "按讚人數: 46.833333333333336\n",
      "留言人數: 3.8\n",
      "\n",
      "\n",
      "非熱門文章\n",
      "按讚人數: 10.733333333333333\n",
      "留言人數: 2.533333333333333\n",
      "\n",
      "\n"
     ]
    }
   ],
   "source": [
    "# 3. 計算熱門/非熱門文章的「平均留言人數」與「平均按讚人數」\n",
    "\n",
    "popular = requests.get('https://www.dcard.tw/_api/forums/pet/posts?popular=true')\n",
    "unpopular = requests.get('https://www.dcard.tw/_api/forums/pet/posts?popular=false')\n",
    "\n",
    "responsePop = popular.text\n",
    "responseUnpop = unpopular.text\n",
    "\n",
    "dataPop = json.loads(responsePop)\n",
    "dataUn = json.loads(responseUnpop)\n",
    "\n",
    "likeCnt = 0\n",
    "commentCnt = 0\n",
    "postCnt = 0\n",
    "\n",
    "for d in dataPop:\n",
    "    likeCnt += d['likeCount']\n",
    "    commentCnt += d['commentCount']\n",
    "    postCnt += 1\n",
    "\n",
    "print(\"熱門文章\")\n",
    "print(\"平均按讚人數:\", likeCnt/postCnt)\n",
    "print(\"平均留言人數:\",commentCnt/postCnt)\n",
    "print('\\n')\n",
    "\n",
    "likeCnt = 0\n",
    "commentCnt = 0\n",
    "postCnt = 0\n",
    "for d in dataUn:\n",
    "    likeCnt += d['likeCount']\n",
    "    commentCnt += d['commentCount']\n",
    "    postCnt += 1\n",
    "    \n",
    "print(\"非熱門文章\")\n",
    "print(\"平均按讚人數:\", likeCnt/postCnt)\n",
    "print(\"平均留言人數:\",commentCnt/postCnt)\n",
    "print('\\n')"
   ]
  }
 ],
 "metadata": {
  "kernelspec": {
   "display_name": "Python 3",
   "language": "python",
   "name": "python3"
  },
  "language_info": {
   "codemirror_mode": {
    "name": "ipython",
    "version": 3
   },
   "file_extension": ".py",
   "mimetype": "text/x-python",
   "name": "python",
   "nbconvert_exporter": "python",
   "pygments_lexer": "ipython3",
   "version": "3.7.4"
  }
 },
 "nbformat": 4,
 "nbformat_minor": 2
}
